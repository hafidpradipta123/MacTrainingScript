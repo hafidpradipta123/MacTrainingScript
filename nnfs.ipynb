{
 "cells": [
  {
   "cell_type": "code",
   "execution_count": 1,
   "metadata": {},
   "outputs": [],
   "source": [
    "import nnfs\n"
   ]
  },
  {
   "cell_type": "code",
   "execution_count": null,
   "metadata": {},
   "outputs": [],
   "source": [
    "import numpy as np\n",
    "import inspect\n",
    "\n",
    "\n",
    "# Initializes NNFS\n",
    "def init(dot_precision_workaround=True, default_dtype='float32', random_seed=0):\n",
    "\n",
    "    # Numpy methods to be replaced for a workaround\n",
    "    methods_to_enclose = [\n",
    "        [np, 'zeros', False, 1],\n",
    "        [np.random, 'randn', True, None],\n",
    "        [np, 'eye', False, 1],\n",
    "    ]\n",
    "\n",
    "    # https://github.com/numpy/numpy/issues/15591\n",
    "    # np.dot() is not consistent between machines\n",
    "    # This workaround raises consistency\n",
    "    # we make computations using float64, but return float32 data\n",
    "    if dot_precision_workaround:\n",
    "        orig_dot = np.dot\n",
    "        def dot(*args, **kwargs):\n",
    "            return orig_dot(*[a.astype('float64') for a in args], **kwargs).astype('float32')\n",
    "        np.dot = dot"
   ]
  }
 ],
 "metadata": {
  "interpreter": {
   "hash": "d2a999898ad509a5045ed7dea1feb70ce46febbdc78e231f5d65242874db573b"
  },
  "kernelspec": {
   "display_name": "Python 3.9.7 ('ve1')",
   "language": "python",
   "name": "python3"
  },
  "language_info": {
   "codemirror_mode": {
    "name": "ipython",
    "version": 3
   },
   "file_extension": ".py",
   "mimetype": "text/x-python",
   "name": "python",
   "nbconvert_exporter": "python",
   "pygments_lexer": "ipython3",
   "version": "3.9.7"
  },
  "orig_nbformat": 4
 },
 "nbformat": 4,
 "nbformat_minor": 2
}
