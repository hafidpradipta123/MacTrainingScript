{
 "cells": [
  {
   "cell_type": "code",
   "execution_count": 3,
   "metadata": {},
   "outputs": [
    {
     "name": "stdout",
     "output_type": "stream",
     "text": [
      "1 * 1/3.0\n",
      "0.3333333333333333\n"
     ]
    }
   ],
   "source": [
    "starting_learning_rate = 1\n",
    "learning_rate_decay = 0.1\n",
    "step = 20\n",
    "calculation = 1+ learning_rate_decay * step\n",
    "learning_rate = starting_learning_rate * (1. / (1+ learning_rate_decay * step))\n",
    "print (f'{starting_learning_rate} * 1/{calculation}')\n",
    "print(learning_rate)"
   ]
  },
  {
   "cell_type": "code",
   "execution_count": 9,
   "metadata": {},
   "outputs": [
    {
     "name": "stdout",
     "output_type": "stream",
     "text": [
      "1 * 1/1.0 = 1.0\n",
      "1 * 1/1.1 = 0.9090909090909091\n",
      "1 * 1/1.2 = 0.8333333333333334\n",
      "1 * 1/1.3 = 0.7692307692307692\n",
      "1 * 1/1.4 = 0.7142857142857143\n",
      "1 * 1/1.5 = 0.6666666666666666\n",
      "1 * 1/1.6 = 0.625\n",
      "1 * 1/1.7000000000000002 = 0.588235294117647\n",
      "1 * 1/1.8 = 0.5555555555555556\n",
      "1 * 1/1.9 = 0.5263157894736842\n",
      "1 * 1/2.0 = 0.5\n",
      "1 * 1/2.1 = 0.47619047619047616\n",
      "1 * 1/2.2 = 0.45454545454545453\n",
      "1 * 1/2.3 = 0.4347826086956522\n",
      "1 * 1/2.4000000000000004 = 0.41666666666666663\n",
      "1 * 1/2.5 = 0.4\n",
      "1 * 1/2.6 = 0.3846153846153846\n",
      "1 * 1/2.7 = 0.37037037037037035\n",
      "1 * 1/2.8 = 0.35714285714285715\n",
      "1 * 1/2.9000000000000004 = 0.3448275862068965\n"
     ]
    }
   ],
   "source": [
    "starting_learning_rate = 1\n",
    "learning_rate_decay = 0.1\n",
    "\n",
    "\n",
    "for step in range(20):\n",
    "    calculation = 1+ learning_rate_decay * step\n",
    "    learning_rate = starting_learning_rate * (1. / (calculation))\n",
    "    print (f'{starting_learning_rate} * 1/{calculation} = {learning_rate}' )\n"
   ]
  }
 ],
 "metadata": {
  "interpreter": {
   "hash": "24e68ee5c3be1453adda2c12808546301ced8adfec32f06d9e3ee889c2d5adb6"
  },
  "kernelspec": {
   "display_name": "Python 3.9.11 ('ve1')",
   "language": "python",
   "name": "python3"
  },
  "language_info": {
   "codemirror_mode": {
    "name": "ipython",
    "version": 3
   },
   "file_extension": ".py",
   "mimetype": "text/x-python",
   "name": "python",
   "nbconvert_exporter": "python",
   "pygments_lexer": "ipython3",
   "version": "3.9.11"
  },
  "orig_nbformat": 4
 },
 "nbformat": 4,
 "nbformat_minor": 2
}
