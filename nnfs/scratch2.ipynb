{
 "cells": [
  {
   "cell_type": "code",
   "execution_count": 1,
   "metadata": {},
   "outputs": [],
   "source": [
    "import numpy as np\n",
    "import nnfs\n",
    "from nnfs.datasets import spiral_data\n",
    "\n",
    "nnfs.init()\n",
    "\n",
    "class Layer_Dense:\n",
    "\n",
    "    #layer initialization \n",
    "    def __init__(self, n_inputs, n_neurons):\n",
    "        self.weights = 0.01 * np.random.randn(n_inputs, n_neurons)\n",
    "        self.biases = np.zeros((1, n_neurons))\n",
    "\n",
    "    def forward(self, inputs):\n",
    "        #calculate output values form inputs, weights and biases\n",
    "        self.output = np.dot(inputs, self.weights) + self.biases\n",
    "class Activation_ReLU:\n",
    "\n",
    "    def forward(self, inputs):\n",
    "        self.output = np.maximum(0, inputs)\n",
    "\n",
    "class Activation_Softmax:\n",
    "    def forward(self, inputs):\n",
    "        exp_values = np.exp(inputs - np.max(inputs, axis = 1, keepdims = True))\n",
    "\n",
    "        #normalize them for each sample\n",
    "        probabilities = exp_values / np.sum(exp_values, axis = 1, keepdims = True)\n",
    "\n",
    "        self.output = probabilities\n",
    "\n",
    "#common loss class\n",
    "class loss:\n",
    "    def calculate(self, output, y):\n",
    "        sample_losses = self.forward(output,y)\n",
    "\n",
    "        data_loss= np.mean(sample_losses)\n",
    "\n",
    "        return data_loss\n",
    "\n",
    "class Loss_CategoricalCrossentropy(loss):\n",
    "    def forward(self, y_pred, y_true):\n",
    "        samples = len(y_pred)\n",
    "        y_pred_clipped = np.clip(y_pred, 1e-7, 1 - 1e-7)\n",
    "\n",
    "        if len (y_true.shape) == 1:\n",
    "            correct_confidences  = y_pred_clipped[\n",
    "                range(samples),\n",
    "                y_true\n",
    "            ]\n",
    "        elif len(y_true.shape) == 2:\n",
    "            correct_confidences = np.sum(\n",
    "                y_pred_clipped * y_true,\n",
    "                axis = 1\n",
    "            )\n",
    "        negative_log_likelihoods = -np.log(correct_confidences)\n",
    "        return negative_log_likelihoods"
   ]
  },
  {
   "cell_type": "code",
   "execution_count": 2,
   "metadata": {},
   "outputs": [],
   "source": [
    "X, y = spiral_data(samples = 100, classes  =3)\n",
    "dense1 = Layer_Dense(2,3)\n",
    "activation1 = Activation_ReLU()\n",
    "dense2 = Layer_Dense(3,3)\n",
    "activation2 = Activation_Softmax()\n",
    "loss_function = Loss_CategoricalCrossentropy()\n"
   ]
  },
  {
   "cell_type": "code",
   "execution_count": 3,
   "metadata": {},
   "outputs": [],
   "source": [
    "lowest_loss = 9999999\n",
    "best_dense1_weights = dense1.weights.copy()\n",
    "best_dense1_biases = dense1.biases.copy()\n",
    "best_dense2_weights = dense2.weights.copy()\n",
    "best_dense2_biases = dense2.biases.copy()"
   ]
  },
  {
   "cell_type": "code",
   "execution_count": 4,
   "metadata": {},
   "outputs": [
    {
     "name": "stdout",
     "output_type": "stream",
     "text": [
      "new set of weights found, iteration: 0 loss: 1.1008568 acc: 0.3333333333333333\n",
      "new set of weights found, iteration: 1 loss: 1.0990819 acc: 0.3333333333333333\n",
      "new set of weights found, iteration: 3 loss: 1.098629 acc: 0.3333333333333333\n",
      "new set of weights found, iteration: 11 loss: 1.0985013 acc: 0.3333333333333333\n",
      "new set of weights found, iteration: 58 loss: 1.0984759 acc: 0.36666666666666664\n",
      "new set of weights found, iteration: 87 loss: 1.0984341 acc: 0.3933333333333333\n",
      "new set of weights found, iteration: 389 loss: 1.0983855 acc: 0.3333333333333333\n",
      "new set of weights found, iteration: 602 loss: 1.0983611 acc: 0.3433333333333333\n",
      "new set of weights found, iteration: 812 loss: 1.0983337 acc: 0.3333333333333333\n",
      "new set of weights found, iteration: 1765 loss: 1.0982677 acc: 0.37\n",
      "new set of weights found, iteration: 3766 loss: 1.0980942 acc: 0.3333333333333333\n",
      "new set of weights found, iteration: 3979 loss: 1.0980837 acc: 0.3333333333333333\n",
      "new set of weights found, iteration: 5582 loss: 1.0980535 acc: 0.3466666666666667\n"
     ]
    }
   ],
   "source": [
    "for iteration in range(10000):\n",
    "    dense1.weights = 0.05 * np.random.randn(2,3)\n",
    "    dense1.biases = 0.05 * np.random.randn(1,3)\n",
    "    dense2.weights = 0.05 * np.random.randn(3,3)\n",
    "    dense2.biases = 0.05 * np.random.randn(1,3)\n",
    "\n",
    "    dense1.forward(X)\n",
    "    activation1.forward(dense1.output)\n",
    "    dense2.forward(activation1.output)\n",
    "    activation2.forward(dense2.output)\n",
    "\n",
    "    loss = loss_function.calculate(activation2.output,y)\n",
    "\n",
    "    predictions = np.argmax(activation2.output, axis = 1)\n",
    "    accuracy = np.mean(predictions == y)\n",
    "    \n",
    "\n",
    "    #if loss is smaller - print and save weights and biases aside\n",
    "    if loss < lowest_loss:\n",
    "        print(\"new set of weights found, iteration:\", iteration, \"loss:\", loss, \"acc:\", accuracy)\n",
    "\n",
    "        best_dense1_weights = dense1.weights.copy()\n",
    "        best_dense1_biases = dense1.biases.copy()\n",
    "        best_dense2_weights = dense1.weights.copy()\n",
    "        best_dense2_boases = dense1.biases.copy()\n",
    "        lowest_loss = loss\n",
    "    else:\n",
    "        dense1.weights = best_dense1_weights.copy()\n",
    "        dense1.biases = best_dense1_biases.copy()\n",
    "        dense2.weights = best_dense2_weights.copy()\n",
    "        dense2.biases = best_dense2_biases.copy()"
   ]
  },
  {
   "cell_type": "code",
   "execution_count": null,
   "metadata": {},
   "outputs": [],
   "source": []
  }
 ],
 "metadata": {
  "interpreter": {
   "hash": "d2a999898ad509a5045ed7dea1feb70ce46febbdc78e231f5d65242874db573b"
  },
  "kernelspec": {
   "display_name": "Python 3.9.7 ('ve1')",
   "language": "python",
   "name": "python3"
  },
  "language_info": {
   "codemirror_mode": {
    "name": "ipython",
    "version": 3
   },
   "file_extension": ".py",
   "mimetype": "text/x-python",
   "name": "python",
   "nbconvert_exporter": "python",
   "pygments_lexer": "ipython3",
   "version": "3.9.7"
  },
  "orig_nbformat": 4
 },
 "nbformat": 4,
 "nbformat_minor": 2
}
